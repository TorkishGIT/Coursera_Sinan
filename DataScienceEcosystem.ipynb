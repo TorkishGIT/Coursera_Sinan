{
 "cells": [
  {
   "cell_type": "markdown",
   "id": "5b55f1d7-c166-4979-a46e-eb269b9e603e",
   "metadata": {},
   "source": [
    "# Data Science Tools and Ecosystem"
   ]
  },
  {
   "cell_type": "markdown",
   "id": "a11b79da-4eaf-4bb5-a291-97f0b5383943",
   "metadata": {
    "tags": []
   },
   "source": [
    "In this notebook created by Sinan, Data Science Tools and Ecosystem are summarized."
   ]
  },
  {
   "cell_type": "markdown",
   "id": "539f308f-8f09-4488-a520-8b95b800b300",
   "metadata": {},
   "source": [
    "<b>Objectives:</b>\n",
    "\n",
    "* List popular languages for Data Science\n",
    "* List popular libraries used by Data Scientists\n",
    "* List popular data science libraries\n",
    "* Demonstrate how to run arithmetic expression in Python"
   ]
  },
  {
   "cell_type": "markdown",
   "id": "22886bdf-6b24-4676-9e46-4fb9ccc146d6",
   "metadata": {},
   "source": [
    "Some of the popular languages that Data Scientists use are:\n",
    "\n",
    "1. R\n",
    "2. Python\n",
    "3. Java\n",
    "4. SQL\n"
   ]
  },
  {
   "cell_type": "markdown",
   "id": "05ad44c4-977b-4e53-be85-97809727c6d6",
   "metadata": {},
   "source": [
    "Some of the commonly used libraries used by Data Scientists include:\n",
    "    \n",
    "1. ggplot for creating data-visualisations with R\n",
    "2. Scikit-learn library contains tools for statistical modeling, including regression, classification, clustering\n",
    "3. NumPy is a python library used to support large, multi-dimensional arrays and matrices along with large collection of mathematical functions\n",
    "4. Matplotlib is a Python library to create visualizations.\n",
    "5. TensorFlow is an open-source library for ML with a focus to train deep neural networks"
   ]
  },
  {
   "cell_type": "markdown",
   "id": "bf41c01a-d03a-4f3c-8fbe-ea1869d1ab63",
   "metadata": {},
   "source": [
    "|Data Science Tools|\n",
    "| --- |\n",
    "|Jupyter Notebooks|\n",
    "|Anaconda|\n",
    "|R Studio|"
   ]
  },
  {
   "cell_type": "markdown",
   "id": "21978188-31a2-4eed-aa7e-b4b9561deac5",
   "metadata": {},
   "source": [
    "### Below are a few examples of evaluating arithmetic expressions in Python"
   ]
  },
  {
   "cell_type": "code",
   "execution_count": 2,
   "id": "73a08eab-84f9-478a-92e1-450e740e27cf",
   "metadata": {
    "tags": []
   },
   "outputs": [
    {
     "data": {
      "text/plain": [
       "17"
      ]
     },
     "execution_count": 2,
     "metadata": {},
     "output_type": "execute_result"
    }
   ],
   "source": [
    "# This a simple arithmetic expression to mutiply then add integers\n",
    "(3*4)+5"
   ]
  },
  {
   "cell_type": "code",
   "execution_count": 3,
   "id": "d27d11ea-778e-4d24-a43d-d0f62ee6cafc",
   "metadata": {
    "tags": []
   },
   "outputs": [
    {
     "data": {
      "text/plain": [
       "3.3333333333333335"
      ]
     },
     "execution_count": 3,
     "metadata": {},
     "output_type": "execute_result"
    }
   ],
   "source": [
    "# This will convert 200 minutes to hours by diving by 60\n",
    "200/60"
   ]
  },
  {
   "cell_type": "markdown",
   "id": "6f795861-42ec-465c-a693-14235a99598f",
   "metadata": {},
   "source": [
    "## Author\n",
    "Sinan Asil"
   ]
  },
  {
   "cell_type": "code",
   "execution_count": null,
   "id": "5de9197f-335e-4124-a55e-aeeef45f96fd",
   "metadata": {},
   "outputs": [],
   "source": []
  }
 ],
 "metadata": {
  "kernelspec": {
   "display_name": "Python",
   "language": "python",
   "name": "conda-env-python-py"
  },
  "language_info": {
   "codemirror_mode": {
    "name": "ipython",
    "version": 3
   },
   "file_extension": ".py",
   "mimetype": "text/x-python",
   "name": "python",
   "nbconvert_exporter": "python",
   "pygments_lexer": "ipython3",
   "version": "3.7.12"
  }
 },
 "nbformat": 4,
 "nbformat_minor": 5
}
